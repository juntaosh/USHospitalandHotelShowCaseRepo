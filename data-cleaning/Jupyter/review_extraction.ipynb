{
 "cells": [
  {
   "cell_type": "code",
   "execution_count": 1,
   "metadata": {},
   "outputs": [],
   "source": [
    "from pyspark import SparkContext"
   ]
  },
  {
   "cell_type": "code",
   "execution_count": 2,
   "metadata": {},
   "outputs": [],
   "source": [
    "import re"
   ]
  },
  {
   "cell_type": "code",
   "execution_count": 3,
   "metadata": {},
   "outputs": [],
   "source": [
    "import math"
   ]
  },
  {
   "cell_type": "code",
   "execution_count": 4,
   "metadata": {},
   "outputs": [
    {
     "name": "stdout",
     "output_type": "stream",
     "text": [
      "\u001b[1;31mProgram starts!\u001b[0m\n"
     ]
    }
   ],
   "source": [
    "# program start here\n",
    "print(\"\\033[1;31mProgram starts!\\033[0m\")\n",
    "hotelFilePath = '../../datasets/Datafiniti_Hotel_Reviews_Jun19.csv'\n",
    "sc = SparkContext('local[*]', 'Review_extraction')\n",
    "sc.setLogLevel(\"ERROR\")"
   ]
  },
  {
   "cell_type": "code",
   "execution_count": 5,
   "metadata": {},
   "outputs": [],
   "source": [
    "# Split lines into words, not using regex to save performance\n",
    "def splitWords(line):\n",
    "    words = ''\n",
    "    neglect = False\n",
    "    result = []\n",
    "    for char in line:\n",
    "        if char == ',' and not neglect and words != '':\n",
    "            result.append(words)\n",
    "            words = ''\n",
    "        else:\n",
    "            if char == '\"':\n",
    "                neglect = not neglect\n",
    "            else:\n",
    "                words += char\n",
    "    if words != '':\n",
    "        result.append(words)\n",
    "    return result"
   ]
  },
  {
   "cell_type": "code",
   "execution_count": 6,
   "metadata": {},
   "outputs": [],
   "source": [
    "def remove_malformed_data(data):\n",
    "    if len(data) != 25 or data[7] != 'US':\n",
    "        return data, -1\n",
    "    else:\n",
    "        return data, 0"
   ]
  },
  {
   "cell_type": "code",
   "execution_count": 7,
   "metadata": {},
   "outputs": [],
   "source": [
    "def reassign_id(review):\n",
    "    return (review_dict[review], (review[0], review[1][0], review[1][1], review[1][2], review[1][3]))"
   ]
  },
  {
   "cell_type": "code",
   "execution_count": 8,
   "metadata": {},
   "outputs": [
    {
     "name": "stdout",
     "output_type": "stream",
     "text": [
      "['hello', 'world', 'hello', 'hello', 'world']\n"
     ]
    }
   ],
   "source": [
    "# We need to tokennize the reviews by tokenize each words, and remove stop words.\n",
    "def tokenizeReview(review_data):\n",
    "    return review_data[0], list(filter(lambda r: r.lower() not in stopwords, tokenize(review_data[1][3])))\n",
    "def tokenize(review_data):\n",
    "    return list(filter(lambda r: len(r) > 0, re.split(r'\\W+', review_data.lower())))\n",
    "print(tokenize(\"Hello world! hello!, hello? world!\"))"
   ]
  },
  {
   "cell_type": "code",
   "execution_count": 9,
   "metadata": {},
   "outputs": [
    {
     "name": "stdout",
     "output_type": "stream",
     "text": [
      "{'hello': 0.6, 'world': 0.4}\n",
      "{'iago': 0.1, 'advises': 0.1, 'roderigo': 0.1, 'to': 0.1, 'spoil': 0.1, 'some': 0.1, 'of': 0.1, 'othello': 0.1, 's': 0.1, 'pleasure': 0.1}\n"
     ]
    }
   ],
   "source": [
    "# TF - term frequency\n",
    "def term_frequency(tokens):\n",
    "    token_counts = {}\n",
    "    for token in tokens:\n",
    "        if token not in token_counts:\n",
    "            token_counts[token] = 1\n",
    "        else:\n",
    "            token_counts[token] += 1\n",
    "    total_tokens = len(tokens)\n",
    "    term_frequency = {}\n",
    "    for token in token_counts.keys():\n",
    "        term_frequency[token] = 1.00 * token_counts[token]/ total_tokens\n",
    "    return term_frequency\n",
    "#Test the validity of term_frequency\n",
    "print(term_frequency(tokenize(\"Hello world! hello!, hello? world!\")))\n",
    "print(term_frequency(tokenize(\"Iago advises Roderigo to spoil some of Othello’s pleasure\")))"
   ]
  },
  {
   "cell_type": "code",
   "execution_count": 10,
   "metadata": {},
   "outputs": [],
   "source": [
    "# IDF - Inverse Document Frequency\n",
    "def inverse_document_frequency(rdd):\n",
    "    tokensRDD = rdd.flatMap(lambda review: list(set(review[1]))).map(lambda t: (t,1)).reduceByKey(lambda a,b:a+b)\n",
    "    return (tokensRDD.map(lambda t: (t[0], float(total_document_count/t[1]))))"
   ]
  },
  {
   "cell_type": "code",
   "execution_count": 11,
   "metadata": {},
   "outputs": [],
   "source": [
    "# TF-IDF Term Frequency - Inverse Document Frequency\n",
    "def tf_idf(review_data, idfMapBroadCasted):\n",
    "    tfs = term_frequency(review_data)\n",
    "    tfidf = {}\n",
    "    for token in tfs.keys():\n",
    "        tfidf[token] = tfs[token] * idfMapBroadCasted.value[token]\n",
    "    return tfidf"
   ]
  },
  {
   "cell_type": "code",
   "execution_count": 12,
   "metadata": {},
   "outputs": [
    {
     "name": "stdout",
     "output_type": "stream",
     "text": [
      "0.29000000000000004\n",
      "0.5385164807134505\n",
      "0.9374368665610919\n"
     ]
    }
   ],
   "source": [
    "# Compute cossine similarity between review based on their TF-IDF scores on duplicate tokens\n",
    "def dotProduct(review_a, review_b):\n",
    "    return sum([review_a[t] * review_b[t] for t in review_a if t in review_b])\n",
    "print(dotProduct({\"a\": 0.5, \"b\": 0.2}, {\"a\": 0.5, \"b\": 0.2, \"c\": 0.2}))\n",
    "\n",
    "def norm(review_a):\n",
    "    return math.sqrt(dotProduct(review_a, review_a))\n",
    "print(norm({\"a\": 0.5, \"b\": 0.2}))\n",
    "\n",
    "def cossine(review_a, review_b):\n",
    "    return dotProduct(review_a, review_b) /(norm(review_a) * norm(review_b))\n",
    "print(cossine({\"a\": 0.5, \"b\": 0.2}, {\"a\": 0.5, \"b\": 0.2, \"c\": 0.2}))"
   ]
  },
  {
   "cell_type": "code",
   "execution_count": 13,
   "metadata": {},
   "outputs": [
    {
     "ename": "SyntaxError",
     "evalue": "unmatched ')' (<ipython-input-13-bf6c47651e68>, line 4)",
     "output_type": "error",
     "traceback": [
      "\u001b[0;36m  File \u001b[0;32m\"<ipython-input-13-bf6c47651e68>\"\u001b[0;36m, line \u001b[0;32m4\u001b[0m\n\u001b[0;31m    return review_id * m_prime + 103)\u001b[0m\n\u001b[0m                                    ^\u001b[0m\n\u001b[0;31mSyntaxError\u001b[0m\u001b[0;31m:\u001b[0m unmatched ')'\n"
     ]
    }
   ],
   "source": [
    "# Repartition the RDD to improve performance\n",
    "m_prime = 23\n",
    "def custom_partition(review_id):\n",
    "    return review_id * m_prime + 103)"
   ]
  },
  {
   "cell_type": "code",
   "execution_count": 14,
   "metadata": {},
   "outputs": [],
   "source": [
    "# Compare each review with each other review:\n",
    "def compare(review_data, reviewTFIDFMapBroadCast):\n",
    "    duplicate_review_ids = []\n",
    "    for review_id in reviewTFIDFMapBroadCast.value.keys():\n",
    "        if review_data[0] >= review_id:\n",
    "            continue\n",
    "        else:\n",
    "            similarity = cossine(review_data[1], reviewTFIDFMapBroadCast.value[review_id])\n",
    "            if similarity >= 0.99:\n",
    "                duplicate_review_ids.append(review_id)\n",
    "    return review_data[0], duplicate_review_ids"
   ]
  },
  {
   "cell_type": "code",
   "execution_count": 15,
   "metadata": {},
   "outputs": [
    {
     "name": "stdout",
     "output_type": "stream",
     "text": [
      "Initial cleaning saved 10000 lines of data.\n"
     ]
    }
   ],
   "source": [
    "hotelFile = sc.textFile(hotelFilePath)\n",
    "initialRDD = hotelFile.flatMap(lambda line: line.split('\\n')) \\\n",
    "    .map(lambda line: splitWords(line)) \\\n",
    "    .map(lambda data: remove_malformed_data(data)) \\\n",
    "    .filter(lambda data: data[1] == 0) \\\n",
    "    .map(lambda data: data[0]) \\\n",
    "    .map(lambda line: (line[11], [line[3], line[4], line[6], line[9],\n",
    "                                  line[10], line[12], line[13], line[16], line[18], line[19], line[0], line[14][0:11]]))\n",
    "print(\"Initial cleaning saved %s lines of data.\"\n",
    "      % (initialRDD.count()))"
   ]
  },
  {
   "cell_type": "code",
   "execution_count": 16,
   "metadata": {},
   "outputs": [
    {
     "name": "stdout",
     "output_type": "stream",
     "text": [
      "Total review count before cleaning has 9787 reviews.\n"
     ]
    }
   ],
   "source": [
    "# Collect only the review portion of all data and uses distinct to remove duplicate reviews\n",
    "reviewRDD = initialRDD \\\n",
    "    .map(lambda data: (data[1][10], (data[0], data[1][7], data[1][8], data[1][9]))) \\\n",
    "    .distinct()\n",
    "total_document_count = reviewRDD.count()\n",
    "print(\"Total review count before cleaning has %s reviews.\" % (total_document_count))"
   ]
  },
  {
   "cell_type": "code",
   "execution_count": 17,
   "metadata": {},
   "outputs": [
    {
     "name": "stdout",
     "output_type": "stream",
     "text": [
      "[('AVwcj_OhkufWRAb5wi9T', (\"Best Western Carmel's Town House Lodge\", '5', 'Not cheap but excellent location. Price is somewhat standard for not hacing reservations. But room was nice and clean. They offer good continental breakfast which is a plus and compensates. Front desk service and personnel where excellent. It is Carmel, no A/C in rooms but they have a fan for air circulation.', 'Very good'))]\n"
     ]
    }
   ],
   "source": [
    "print(reviewRDD.take(1))"
   ]
  },
  {
   "cell_type": "code",
   "execution_count": 18,
   "metadata": {},
   "outputs": [],
   "source": [
    "# Since we have duplicate review_ID in this dataset, we need to re-assign their ids.\n",
    "reviewList = reviewRDD.collect()\n",
    "review_dict = {}\n",
    "counter = 0\n",
    "for review in reviewList:\n",
    "    review_dict[review] = counter\n",
    "    counter += 1\n",
    "reviewRDD = reviewRDD.map(reassign_id)"
   ]
  },
  {
   "cell_type": "code",
   "execution_count": 19,
   "metadata": {},
   "outputs": [
    {
     "name": "stdout",
     "output_type": "stream",
     "text": [
      "[(0, ('AVwcj_OhkufWRAb5wi9T', \"Best Western Carmel's Town House Lodge\", '5', 'Not cheap but excellent location. Price is somewhat standard for not hacing reservations. But room was nice and clean. They offer good continental breakfast which is a plus and compensates. Front desk service and personnel where excellent. It is Carmel, no A/C in rooms but they have a fan for air circulation.', 'Very good'))]\n"
     ]
    }
   ],
   "source": [
    "print(reviewRDD.take(1))"
   ]
  },
  {
   "cell_type": "code",
   "execution_count": 20,
   "metadata": {},
   "outputs": [],
   "source": [
    "# We need to remove stopwords to compute the real similarity between reviews. Using set to remove duplicates and \n",
    "# for faster comparison\n",
    "stopwords = set(sc.textFile('../../datasets/stopwords.txt').flatMap(lambda data: data.split('\\n')).collect())"
   ]
  },
  {
   "cell_type": "code",
   "execution_count": 21,
   "metadata": {},
   "outputs": [
    {
     "name": "stdout",
     "output_type": "stream",
     "text": [
      "[(0, ['cheap', 'excellent', 'location', 'price', 'standard', 'hacing', 'reservations', 'room', 'nice', 'clean', 'offer', 'good', 'continental', 'breakfast', 'a', 'compensates', 'front', 'desk', 'service', 'personnel', 'excellent', 'carmel', 'a', 'c', 'rooms', 'a', 'fan', 'air', 'circulation'])]\n"
     ]
    }
   ],
   "source": [
    "# Tokenize every review\n",
    "reviewTokenized = reviewRDD.map(tokenizeReview)\n",
    "print(reviewTokenized.take(1))"
   ]
  },
  {
   "cell_type": "code",
   "execution_count": 22,
   "metadata": {},
   "outputs": [
    {
     "name": "stdout",
     "output_type": "stream",
     "text": [
      "71.96323529411765\n"
     ]
    }
   ],
   "source": [
    "# Calculate the IDF for each token in the review\n",
    "idfMap = inverse_document_frequency(reviewTokenized).collectAsMap()\n",
    "idfMapBroadCast = sc.broadcast(idfMap)\n",
    "print(idfMap['cheap'])"
   ]
  },
  {
   "cell_type": "code",
   "execution_count": 23,
   "metadata": {},
   "outputs": [
    {
     "name": "stdout",
     "output_type": "stream",
     "text": [
      "[(0, {'cheap': 2.4814908722109537, 'excellent': 0.6736182806800193, 'location': 0.11436216828894939, 'price': 0.3601737018363817, 'standard': 1.6382658185470373, 'hacing': 337.48275862068965, 'reservations': 2.463377800151019, 'room': 0.06444200088231615, 'nice': 0.1201861675999607, 'clean': 0.09382339689204605, 'offer': 0.7211170055997642, 'good': 0.1306047827479449, 'continental': 1.454667063020214, 'breakfast': 0.10872511553501599, 'a': 0.12184959391768793, 'compensates': 337.48275862068965, 'front': 0.21185358356603243, 'desk': 0.21386740090031028, 'service': 0.1669880052551656, 'personnel': 5.192042440318302, 'carmel': 84.37068965517241, 'c': 1.5552200858096297, 'rooms': 0.11649387594776998, 'fan': 2.9865730851388466, 'air': 1.2980106100795754, 'circulation': 168.74137931034483})]\n"
     ]
    }
   ],
   "source": [
    "# Perform TFIDF on each review\n",
    "reviewTFIDF = reviewTokenized.map(lambda review_data: (review_data[0], tf_idf(review_data[1], idfMapBroadCast)))\n",
    "print(reviewTFIDF.take(1))"
   ]
  },
  {
   "cell_type": "code",
   "execution_count": 24,
   "metadata": {},
   "outputs": [
    {
     "name": "stdout",
     "output_type": "stream",
     "text": [
      "{'cheap': 2.4814908722109537, 'excellent': 0.6736182806800193, 'location': 0.11436216828894939, 'price': 0.3601737018363817, 'standard': 1.6382658185470373, 'hacing': 337.48275862068965, 'reservations': 2.463377800151019, 'room': 0.06444200088231615, 'nice': 0.1201861675999607, 'clean': 0.09382339689204605, 'offer': 0.7211170055997642, 'good': 0.1306047827479449, 'continental': 1.454667063020214, 'breakfast': 0.10872511553501599, 'a': 0.12184959391768793, 'compensates': 337.48275862068965, 'front': 0.21185358356603243, 'desk': 0.21386740090031028, 'service': 0.1669880052551656, 'personnel': 5.192042440318302, 'carmel': 84.37068965517241, 'c': 1.5552200858096297, 'rooms': 0.11649387594776998, 'fan': 2.9865730851388466, 'air': 1.2980106100795754, 'circulation': 168.74137931034483}\n"
     ]
    }
   ],
   "source": [
    "# Collect the review TFIDF as a map:\n",
    "reviewTFIDFMap = reviewTFIDF.collectAsMap()\n",
    "reviewTFIDFMapBroadCast = sc.broadcast(reviewTFIDFMap)\n",
    "print(reviewTFIDFMapBroadCast.value[0])"
   ]
  },
  {
   "cell_type": "code",
   "execution_count": 25,
   "metadata": {},
   "outputs": [],
   "source": [
    "possibleDuplicateReviewMap = reviewTFIDF.map(lambda review_data: compare(review_data, reviewTFIDFMapBroadCast)).collectAsMap()"
   ]
  },
  {
   "cell_type": "code",
   "execution_count": 26,
   "metadata": {},
   "outputs": [],
   "source": [
    "duplicateCandidates = {}\n",
    "for review_id in possibleDuplicateReviewMap.keys():\n",
    "    if len(possibleDuplicateReviewMap[review_id]) > 0:\n",
    "        duplicateCandidates[review_id] = possibleDuplicateReviewMap[review_id]"
   ]
  },
  {
   "cell_type": "code",
   "execution_count": 27,
   "metadata": {},
   "outputs": [],
   "source": [
    "reviewMap = reviewRDD.collectAsMap()"
   ]
  },
  {
   "cell_type": "code",
   "execution_count": 28,
   "metadata": {},
   "outputs": [
    {
     "name": "stdout",
     "output_type": "stream",
     "text": [
      "Cleaned reviews has total of 9787 reviews before Tf-idf removal\n"
     ]
    }
   ],
   "source": [
    "print(\"Cleaned reviews has total of %s reviews before Tf-idf removal\" % (len(reviewMap)))"
   ]
  },
  {
   "cell_type": "code",
   "execution_count": 29,
   "metadata": {},
   "outputs": [
    {
     "name": "stdout",
     "output_type": "stream",
     "text": [
      "('AWCVdownIxWefVJwvUDw', 'Hawthorn Suites By Wyndham Louisville/jeffersontown', '4', 'MoreMore', 'Perfect stay'), ('AVz6h4u2FcQ3k02bDhKp', 'Wyndham Garden Baronne Plaza New Orleans', '3', 'MoreMore', 'June trip to New Orleans')\n",
      "('AWCVdownIxWefVJwvUDw', 'Hawthorn Suites By Wyndham Louisville/jeffersontown', '4', 'MoreMore', 'Perfect stay'), ('AWEKrVXr3-Khe5l_eyaL', 'Ramada Metairie New Orleans Airport', '1', 'MoreMore', 'Not exceptable...roaches')\n",
      "('AWCVdownIxWefVJwvUDw', 'Hawthorn Suites By Wyndham Louisville/jeffersontown', '4', 'MoreMore', 'Perfect stay'), ('AV1eUFlyIxWefVJwfdod', 'Days Inn-Ku Lawrence', '1', 'MoreMore', \"Don't stay\")\n",
      "('AWCVdownIxWefVJwvUDw', 'Hawthorn Suites By Wyndham Louisville/jeffersontown', '4', 'MoreMore', 'Perfect stay'), ('AVwebW3tIN2L1WUf40LS', 'Wyndham Santa Monica At The Pier', '5', 'MoreMore', 'Excellent Customer Service!')\n",
      "('AWCVdownIxWefVJwvUDw', 'Hawthorn Suites By Wyndham Louisville/jeffersontown', '4', 'MoreMore', 'Perfect stay'), ('AVwebW3tIN2L1WUf40LS', 'Wyndham Santa Monica At The Pier', '3', 'MoreMore', 'Paper walls')\n",
      "('AWCVdownIxWefVJwvUDw', 'Hawthorn Suites By Wyndham Louisville/jeffersontown', '4', 'MoreMore', 'Perfect stay'), ('AVwebW3tIN2L1WUf40LS', 'Wyndham Santa Monica At The Pier', '3', 'MoreMore', 'Good location, not much ekse')\n",
      "('AWCVdownIxWefVJwvUDw', 'Hawthorn Suites By Wyndham Louisville/jeffersontown', '4', 'MoreMore', 'Perfect stay'), ('AVwebW3tIN2L1WUf40LS', 'Wyndham Santa Monica At The Pier', '5', 'MoreMore', 'Great Place to stay')\n",
      "('AWCVdownIxWefVJwvUDw', 'Hawthorn Suites By Wyndham Louisville/jeffersontown', '4', 'MoreMore', 'Perfect stay'), ('AV1thhZpIxWefVJwhDL7', 'Pavilion Inn', '3', 'MoreMore', 'Thin Walls')\n",
      "('AWCVdownIxWefVJwvUDw', 'Hawthorn Suites By Wyndham Louisville/jeffersontown', '4', 'MoreMore', 'Perfect stay'), ('AVwebW3tIN2L1WUf40LS', 'Wyndham Santa Monica At The Pier', '2', 'MoreMore', \"Wyndham doesn't care about needs of guests\")\n",
      "('AWCVdownIxWefVJwvUDw', 'Hawthorn Suites By Wyndham Louisville/jeffersontown', '4', 'MoreMore', 'Perfect stay'), ('AVz6h4Sb3D1zeR_xDHsu', 'Microtel Inn Suites By Wyndham Lexington', '5', 'MoreMore', 'Location Location Location')\n",
      "('AWCVdownIxWefVJwvUDw', 'Hawthorn Suites By Wyndham Louisville/jeffersontown', '4', 'MoreMore', 'Perfect stay'), ('AVwekDvJByjofQCxzaKQ', 'Howard Johnson Inn - Flagstaff', '1', 'MoreMore', 'Overpriced')\n",
      "('AWCVdownIxWefVJwvUDw', 'Hawthorn Suites By Wyndham Louisville/jeffersontown', '4', 'MoreMore', 'Perfect stay'), ('AVwdbLuSkufWRAb55xAj', 'Microtel Inn Suites By Wyndham Pleasanton', '4', 'MoreMore', 'Good Place to Stay')\n",
      "('AWCVdownIxWefVJwvUDw', 'Hawthorn Suites By Wyndham Louisville/jeffersontown', '4', 'MoreMore', 'Perfect stay'), ('AVwebW3tIN2L1WUf40LS', 'Wyndham Santa Monica At The Pier', '4', 'MoreMore', 'Location to Beach and Pier are great')\n",
      "('AWCVdownIxWefVJwvUDw', 'Hawthorn Suites By Wyndham Louisville/jeffersontown', '4', 'MoreMore', 'Perfect stay'), ('AVwebW3tIN2L1WUf40LS', 'Wyndham Santa Monica At The Pier', '4', 'MoreMore', 'Nice yet noisy')\n",
      "('AWCVdownIxWefVJwvUDw', 'Hawthorn Suites By Wyndham Louisville/jeffersontown', '4', 'MoreMore', 'Perfect stay'), ('AVzoM7PX-gnIPe8DUBPz', 'Days Inn-Easton', '3', 'MoreMore', 'Almost okay.')\n",
      "('AWCVdownIxWefVJwvUDw', 'Hawthorn Suites By Wyndham Louisville/jeffersontown', '4', 'MoreMore', 'Perfect stay'), ('AWB2Zvswa4HuVbedJ8WE', 'Microtel Inn Suites By Wyndham Culpeper', '4', 'MoreMore', 'Home Away From Home -')\n",
      "('AWCVdownIxWefVJwvUDw', 'Hawthorn Suites By Wyndham Louisville/jeffersontown', '4', 'MoreMore', 'Perfect stay'), ('AV1eT1uE3-Khe5l_NHZp', 'Days Inn-buckeye', '3', 'MoreMore', 'Needs Attention')\n",
      "('AVweZmtlByjofQCxx26h', 'Motel 6 Bakersfield Airport', '4', 'Very clean. Great amenities, such as coffee of a few different types as well as hot chocolate in the morning. Microwave and refridge in each room which makes it very convenient. Most of all were greeted at the front lobby counter by Ryan she is such a kind helpful person who makes every guest feel welcome and important. A great... More', 'wonderful reception'), ('AVwd7XXKkufWRAb5-eHh', 'Holiday Inn Ft LauderdaleAirport', '4', 'The hotel,was very nice, clean and quiet. The hotel is convenience located. The staff was friendly and accommodating to our room change request. (We wanted a room with a view). We requested additional towels and they were brought up immediately. Glad the room has a refridge and microwave. I would recommend this hotel.', 'Nice, clean hotel')\n",
      "('AVz6h4u2FcQ3k02bDhKp', 'Wyndham Garden Baronne Plaza New Orleans', '3', 'MoreMore', 'June trip to New Orleans'), ('AWEKrVXr3-Khe5l_eyaL', 'Ramada Metairie New Orleans Airport', '1', 'MoreMore', 'Not exceptable...roaches')\n",
      "('AVz6h4u2FcQ3k02bDhKp', 'Wyndham Garden Baronne Plaza New Orleans', '3', 'MoreMore', 'June trip to New Orleans'), ('AV1eUFlyIxWefVJwfdod', 'Days Inn-Ku Lawrence', '1', 'MoreMore', \"Don't stay\")\n",
      "('AVz6h4u2FcQ3k02bDhKp', 'Wyndham Garden Baronne Plaza New Orleans', '3', 'MoreMore', 'June trip to New Orleans'), ('AVwebW3tIN2L1WUf40LS', 'Wyndham Santa Monica At The Pier', '5', 'MoreMore', 'Excellent Customer Service!')\n",
      "('AVz6h4u2FcQ3k02bDhKp', 'Wyndham Garden Baronne Plaza New Orleans', '3', 'MoreMore', 'June trip to New Orleans'), ('AVwebW3tIN2L1WUf40LS', 'Wyndham Santa Monica At The Pier', '3', 'MoreMore', 'Paper walls')\n",
      "('AVz6h4u2FcQ3k02bDhKp', 'Wyndham Garden Baronne Plaza New Orleans', '3', 'MoreMore', 'June trip to New Orleans'), ('AVwebW3tIN2L1WUf40LS', 'Wyndham Santa Monica At The Pier', '3', 'MoreMore', 'Good location, not much ekse')\n",
      "('AVz6h4u2FcQ3k02bDhKp', 'Wyndham Garden Baronne Plaza New Orleans', '3', 'MoreMore', 'June trip to New Orleans'), ('AVwebW3tIN2L1WUf40LS', 'Wyndham Santa Monica At The Pier', '5', 'MoreMore', 'Great Place to stay')\n",
      "('AVz6h4u2FcQ3k02bDhKp', 'Wyndham Garden Baronne Plaza New Orleans', '3', 'MoreMore', 'June trip to New Orleans'), ('AV1thhZpIxWefVJwhDL7', 'Pavilion Inn', '3', 'MoreMore', 'Thin Walls')\n",
      "('AVz6h4u2FcQ3k02bDhKp', 'Wyndham Garden Baronne Plaza New Orleans', '3', 'MoreMore', 'June trip to New Orleans'), ('AVwebW3tIN2L1WUf40LS', 'Wyndham Santa Monica At The Pier', '2', 'MoreMore', \"Wyndham doesn't care about needs of guests\")\n",
      "('AVz6h4u2FcQ3k02bDhKp', 'Wyndham Garden Baronne Plaza New Orleans', '3', 'MoreMore', 'June trip to New Orleans'), ('AVz6h4Sb3D1zeR_xDHsu', 'Microtel Inn Suites By Wyndham Lexington', '5', 'MoreMore', 'Location Location Location')\n",
      "('AVz6h4u2FcQ3k02bDhKp', 'Wyndham Garden Baronne Plaza New Orleans', '3', 'MoreMore', 'June trip to New Orleans'), ('AVwekDvJByjofQCxzaKQ', 'Howard Johnson Inn - Flagstaff', '1', 'MoreMore', 'Overpriced')\n",
      "('AVz6h4u2FcQ3k02bDhKp', 'Wyndham Garden Baronne Plaza New Orleans', '3', 'MoreMore', 'June trip to New Orleans'), ('AVwdbLuSkufWRAb55xAj', 'Microtel Inn Suites By Wyndham Pleasanton', '4', 'MoreMore', 'Good Place to Stay')\n",
      "('AVz6h4u2FcQ3k02bDhKp', 'Wyndham Garden Baronne Plaza New Orleans', '3', 'MoreMore', 'June trip to New Orleans'), ('AVwebW3tIN2L1WUf40LS', 'Wyndham Santa Monica At The Pier', '4', 'MoreMore', 'Location to Beach and Pier are great')\n",
      "('AVz6h4u2FcQ3k02bDhKp', 'Wyndham Garden Baronne Plaza New Orleans', '3', 'MoreMore', 'June trip to New Orleans'), ('AVwebW3tIN2L1WUf40LS', 'Wyndham Santa Monica At The Pier', '4', 'MoreMore', 'Nice yet noisy')\n",
      "('AVz6h4u2FcQ3k02bDhKp', 'Wyndham Garden Baronne Plaza New Orleans', '3', 'MoreMore', 'June trip to New Orleans'), ('AVzoM7PX-gnIPe8DUBPz', 'Days Inn-Easton', '3', 'MoreMore', 'Almost okay.')\n",
      "('AVz6h4u2FcQ3k02bDhKp', 'Wyndham Garden Baronne Plaza New Orleans', '3', 'MoreMore', 'June trip to New Orleans'), ('AWB2Zvswa4HuVbedJ8WE', 'Microtel Inn Suites By Wyndham Culpeper', '4', 'MoreMore', 'Home Away From Home -')\n",
      "('AVz6h4u2FcQ3k02bDhKp', 'Wyndham Garden Baronne Plaza New Orleans', '3', 'MoreMore', 'June trip to New Orleans'), ('AV1eT1uE3-Khe5l_NHZp', 'Days Inn-buckeye', '3', 'MoreMore', 'Needs Attention')\n",
      "('AWEKrVXr3-Khe5l_eyaL', 'Ramada Metairie New Orleans Airport', '1', 'MoreMore', 'Not exceptable...roaches'), ('AV1eUFlyIxWefVJwfdod', 'Days Inn-Ku Lawrence', '1', 'MoreMore', \"Don't stay\")\n",
      "('AWEKrVXr3-Khe5l_eyaL', 'Ramada Metairie New Orleans Airport', '1', 'MoreMore', 'Not exceptable...roaches'), ('AVwebW3tIN2L1WUf40LS', 'Wyndham Santa Monica At The Pier', '5', 'MoreMore', 'Excellent Customer Service!')\n",
      "('AWEKrVXr3-Khe5l_eyaL', 'Ramada Metairie New Orleans Airport', '1', 'MoreMore', 'Not exceptable...roaches'), ('AVwebW3tIN2L1WUf40LS', 'Wyndham Santa Monica At The Pier', '3', 'MoreMore', 'Paper walls')\n",
      "('AWEKrVXr3-Khe5l_eyaL', 'Ramada Metairie New Orleans Airport', '1', 'MoreMore', 'Not exceptable...roaches'), ('AVwebW3tIN2L1WUf40LS', 'Wyndham Santa Monica At The Pier', '3', 'MoreMore', 'Good location, not much ekse')\n",
      "('AWEKrVXr3-Khe5l_eyaL', 'Ramada Metairie New Orleans Airport', '1', 'MoreMore', 'Not exceptable...roaches'), ('AVwebW3tIN2L1WUf40LS', 'Wyndham Santa Monica At The Pier', '5', 'MoreMore', 'Great Place to stay')\n",
      "('AWEKrVXr3-Khe5l_eyaL', 'Ramada Metairie New Orleans Airport', '1', 'MoreMore', 'Not exceptable...roaches'), ('AV1thhZpIxWefVJwhDL7', 'Pavilion Inn', '3', 'MoreMore', 'Thin Walls')\n",
      "('AWEKrVXr3-Khe5l_eyaL', 'Ramada Metairie New Orleans Airport', '1', 'MoreMore', 'Not exceptable...roaches'), ('AVwebW3tIN2L1WUf40LS', 'Wyndham Santa Monica At The Pier', '2', 'MoreMore', \"Wyndham doesn't care about needs of guests\")\n",
      "('AWEKrVXr3-Khe5l_eyaL', 'Ramada Metairie New Orleans Airport', '1', 'MoreMore', 'Not exceptable...roaches'), ('AVz6h4Sb3D1zeR_xDHsu', 'Microtel Inn Suites By Wyndham Lexington', '5', 'MoreMore', 'Location Location Location')\n",
      "('AWEKrVXr3-Khe5l_eyaL', 'Ramada Metairie New Orleans Airport', '1', 'MoreMore', 'Not exceptable...roaches'), ('AVwekDvJByjofQCxzaKQ', 'Howard Johnson Inn - Flagstaff', '1', 'MoreMore', 'Overpriced')\n",
      "('AWEKrVXr3-Khe5l_eyaL', 'Ramada Metairie New Orleans Airport', '1', 'MoreMore', 'Not exceptable...roaches'), ('AVwdbLuSkufWRAb55xAj', 'Microtel Inn Suites By Wyndham Pleasanton', '4', 'MoreMore', 'Good Place to Stay')\n",
      "('AWEKrVXr3-Khe5l_eyaL', 'Ramada Metairie New Orleans Airport', '1', 'MoreMore', 'Not exceptable...roaches'), ('AVwebW3tIN2L1WUf40LS', 'Wyndham Santa Monica At The Pier', '4', 'MoreMore', 'Location to Beach and Pier are great')\n",
      "('AWEKrVXr3-Khe5l_eyaL', 'Ramada Metairie New Orleans Airport', '1', 'MoreMore', 'Not exceptable...roaches'), ('AVwebW3tIN2L1WUf40LS', 'Wyndham Santa Monica At The Pier', '4', 'MoreMore', 'Nice yet noisy')\n",
      "('AWEKrVXr3-Khe5l_eyaL', 'Ramada Metairie New Orleans Airport', '1', 'MoreMore', 'Not exceptable...roaches'), ('AVzoM7PX-gnIPe8DUBPz', 'Days Inn-Easton', '3', 'MoreMore', 'Almost okay.')\n",
      "('AWEKrVXr3-Khe5l_eyaL', 'Ramada Metairie New Orleans Airport', '1', 'MoreMore', 'Not exceptable...roaches'), ('AWB2Zvswa4HuVbedJ8WE', 'Microtel Inn Suites By Wyndham Culpeper', '4', 'MoreMore', 'Home Away From Home -')\n",
      "('AWEKrVXr3-Khe5l_eyaL', 'Ramada Metairie New Orleans Airport', '1', 'MoreMore', 'Not exceptable...roaches'), ('AV1eT1uE3-Khe5l_NHZp', 'Days Inn-buckeye', '3', 'MoreMore', 'Needs Attention')\n",
      "('AV1eUFlyIxWefVJwfdod', 'Days Inn-Ku Lawrence', '1', 'MoreMore', \"Don't stay\"), ('AVwebW3tIN2L1WUf40LS', 'Wyndham Santa Monica At The Pier', '5', 'MoreMore', 'Excellent Customer Service!')\n",
      "('AV1eUFlyIxWefVJwfdod', 'Days Inn-Ku Lawrence', '1', 'MoreMore', \"Don't stay\"), ('AVwebW3tIN2L1WUf40LS', 'Wyndham Santa Monica At The Pier', '3', 'MoreMore', 'Paper walls')\n",
      "('AV1eUFlyIxWefVJwfdod', 'Days Inn-Ku Lawrence', '1', 'MoreMore', \"Don't stay\"), ('AVwebW3tIN2L1WUf40LS', 'Wyndham Santa Monica At The Pier', '3', 'MoreMore', 'Good location, not much ekse')\n",
      "('AV1eUFlyIxWefVJwfdod', 'Days Inn-Ku Lawrence', '1', 'MoreMore', \"Don't stay\"), ('AVwebW3tIN2L1WUf40LS', 'Wyndham Santa Monica At The Pier', '5', 'MoreMore', 'Great Place to stay')\n",
      "('AV1eUFlyIxWefVJwfdod', 'Days Inn-Ku Lawrence', '1', 'MoreMore', \"Don't stay\"), ('AV1thhZpIxWefVJwhDL7', 'Pavilion Inn', '3', 'MoreMore', 'Thin Walls')\n",
      "('AV1eUFlyIxWefVJwfdod', 'Days Inn-Ku Lawrence', '1', 'MoreMore', \"Don't stay\"), ('AVwebW3tIN2L1WUf40LS', 'Wyndham Santa Monica At The Pier', '2', 'MoreMore', \"Wyndham doesn't care about needs of guests\")\n",
      "('AV1eUFlyIxWefVJwfdod', 'Days Inn-Ku Lawrence', '1', 'MoreMore', \"Don't stay\"), ('AVz6h4Sb3D1zeR_xDHsu', 'Microtel Inn Suites By Wyndham Lexington', '5', 'MoreMore', 'Location Location Location')\n",
      "('AV1eUFlyIxWefVJwfdod', 'Days Inn-Ku Lawrence', '1', 'MoreMore', \"Don't stay\"), ('AVwekDvJByjofQCxzaKQ', 'Howard Johnson Inn - Flagstaff', '1', 'MoreMore', 'Overpriced')\n",
      "('AV1eUFlyIxWefVJwfdod', 'Days Inn-Ku Lawrence', '1', 'MoreMore', \"Don't stay\"), ('AVwdbLuSkufWRAb55xAj', 'Microtel Inn Suites By Wyndham Pleasanton', '4', 'MoreMore', 'Good Place to Stay')\n",
      "('AV1eUFlyIxWefVJwfdod', 'Days Inn-Ku Lawrence', '1', 'MoreMore', \"Don't stay\"), ('AVwebW3tIN2L1WUf40LS', 'Wyndham Santa Monica At The Pier', '4', 'MoreMore', 'Location to Beach and Pier are great')\n",
      "('AV1eUFlyIxWefVJwfdod', 'Days Inn-Ku Lawrence', '1', 'MoreMore', \"Don't stay\"), ('AVwebW3tIN2L1WUf40LS', 'Wyndham Santa Monica At The Pier', '4', 'MoreMore', 'Nice yet noisy')\n",
      "('AV1eUFlyIxWefVJwfdod', 'Days Inn-Ku Lawrence', '1', 'MoreMore', \"Don't stay\"), ('AVzoM7PX-gnIPe8DUBPz', 'Days Inn-Easton', '3', 'MoreMore', 'Almost okay.')\n",
      "('AV1eUFlyIxWefVJwfdod', 'Days Inn-Ku Lawrence', '1', 'MoreMore', \"Don't stay\"), ('AWB2Zvswa4HuVbedJ8WE', 'Microtel Inn Suites By Wyndham Culpeper', '4', 'MoreMore', 'Home Away From Home -')\n",
      "('AV1eUFlyIxWefVJwfdod', 'Days Inn-Ku Lawrence', '1', 'MoreMore', \"Don't stay\"), ('AV1eT1uE3-Khe5l_NHZp', 'Days Inn-buckeye', '3', 'MoreMore', 'Needs Attention')\n",
      "('AWEKprTaa4HuVbedMYZd', 'Best Western Northwest Inn', '4', 'The staff was very courteous and the facility very clean. I would recommend it to friends and family and already have. It is very close to Love field which is a wonderful smaller airport. Thank you .The rooms were very clean and the staff very helpful.Greetings Thank you very much for taking the time to review our property.Your input, and the feedback from all of our guests is vitally important to us and we always want guest expectations to be met upon arrival.We hope to see you again in the future and you can reach us directly at (214) 353-8774 if I can be of any assistance.', 'Review of Feb 2015 Dallas Trip'), ('AWEKprTaa4HuVbedMYZd', 'Best Western Northwest Inn', '4', 'We stayed one night in order to be near Love Field for a morning flight. It took 20 minutes to get to the airport with traffic. The hotel is no frills but very clean. The room had everything one would need. The TV worked well. The shower pressure was good with hot water. If you are looking for a clean room at a good rate this hotel would work.Greetings Thank you very much for taking the time to review our property.Your input, and the feedback from all of our guests is vitally important to us and we always want guest expectations to be met upon arrival.We hope to see you again in the future and you can reach us directly at (214) 353-8774 if I can be of any assistance.', 'Clean and convenient')\n",
      "('AWEKprTaa4HuVbedMYZd', 'Best Western Northwest Inn', '4', 'The staff was very courteous and the facility very clean. I would recommend it to friends and family and already have. It is very close to Love field which is a wonderful smaller airport. Thank you .The rooms were very clean and the staff very helpful.Greetings Thank you very much for taking the time to review our property.Your input, and the feedback from all of our guests is vitally important to us and we always want guest expectations to be met upon arrival.We hope to see you again in the future and you can reach us directly at (214) 353-8774 if I can be of any assistance.', 'Review of Feb 2015 Dallas Trip'), ('AWEKprTaa4HuVbedMYZd', 'Best Western Northwest Inn', '4', 'The overall hotel was clean. The staff was friendly. The breakfast was good. About a 7 minute drive to the Dallas Convention Center. Would recommend this hotel as a good place to stay. We will stay here again if in the area.Greetings Thank you very much for taking the time to review our property.Your input, and the feedback from all of our guests is vitally important to us and we always want guest expectations to be met upon arrival.We hope to see you again in the future and you can reach us directly at (214) 353-8774 if I can be of any assistance.', 'Would Stay Here Again!')\n",
      "('AVwebW3tIN2L1WUf40LS', 'Wyndham Santa Monica At The Pier', '5', 'MoreMore', 'Excellent Customer Service!'), ('AVwebW3tIN2L1WUf40LS', 'Wyndham Santa Monica At The Pier', '3', 'MoreMore', 'Paper walls')\n",
      "('AVwebW3tIN2L1WUf40LS', 'Wyndham Santa Monica At The Pier', '5', 'MoreMore', 'Excellent Customer Service!'), ('AVwebW3tIN2L1WUf40LS', 'Wyndham Santa Monica At The Pier', '3', 'MoreMore', 'Good location, not much ekse')\n",
      "('AVwebW3tIN2L1WUf40LS', 'Wyndham Santa Monica At The Pier', '5', 'MoreMore', 'Excellent Customer Service!'), ('AVwebW3tIN2L1WUf40LS', 'Wyndham Santa Monica At The Pier', '5', 'MoreMore', 'Great Place to stay')\n",
      "('AVwebW3tIN2L1WUf40LS', 'Wyndham Santa Monica At The Pier', '5', 'MoreMore', 'Excellent Customer Service!'), ('AV1thhZpIxWefVJwhDL7', 'Pavilion Inn', '3', 'MoreMore', 'Thin Walls')\n",
      "('AVwebW3tIN2L1WUf40LS', 'Wyndham Santa Monica At The Pier', '5', 'MoreMore', 'Excellent Customer Service!'), ('AVwebW3tIN2L1WUf40LS', 'Wyndham Santa Monica At The Pier', '2', 'MoreMore', \"Wyndham doesn't care about needs of guests\")\n",
      "('AVwebW3tIN2L1WUf40LS', 'Wyndham Santa Monica At The Pier', '5', 'MoreMore', 'Excellent Customer Service!'), ('AVz6h4Sb3D1zeR_xDHsu', 'Microtel Inn Suites By Wyndham Lexington', '5', 'MoreMore', 'Location Location Location')\n",
      "('AVwebW3tIN2L1WUf40LS', 'Wyndham Santa Monica At The Pier', '5', 'MoreMore', 'Excellent Customer Service!'), ('AVwekDvJByjofQCxzaKQ', 'Howard Johnson Inn - Flagstaff', '1', 'MoreMore', 'Overpriced')\n",
      "('AVwebW3tIN2L1WUf40LS', 'Wyndham Santa Monica At The Pier', '5', 'MoreMore', 'Excellent Customer Service!'), ('AVwdbLuSkufWRAb55xAj', 'Microtel Inn Suites By Wyndham Pleasanton', '4', 'MoreMore', 'Good Place to Stay')\n",
      "('AVwebW3tIN2L1WUf40LS', 'Wyndham Santa Monica At The Pier', '5', 'MoreMore', 'Excellent Customer Service!'), ('AVwebW3tIN2L1WUf40LS', 'Wyndham Santa Monica At The Pier', '4', 'MoreMore', 'Location to Beach and Pier are great')\n",
      "('AVwebW3tIN2L1WUf40LS', 'Wyndham Santa Monica At The Pier', '5', 'MoreMore', 'Excellent Customer Service!'), ('AVwebW3tIN2L1WUf40LS', 'Wyndham Santa Monica At The Pier', '4', 'MoreMore', 'Nice yet noisy')\n",
      "('AVwebW3tIN2L1WUf40LS', 'Wyndham Santa Monica At The Pier', '5', 'MoreMore', 'Excellent Customer Service!'), ('AVzoM7PX-gnIPe8DUBPz', 'Days Inn-Easton', '3', 'MoreMore', 'Almost okay.')\n",
      "('AVwebW3tIN2L1WUf40LS', 'Wyndham Santa Monica At The Pier', '5', 'MoreMore', 'Excellent Customer Service!'), ('AWB2Zvswa4HuVbedJ8WE', 'Microtel Inn Suites By Wyndham Culpeper', '4', 'MoreMore', 'Home Away From Home -')\n",
      "('AVwebW3tIN2L1WUf40LS', 'Wyndham Santa Monica At The Pier', '5', 'MoreMore', 'Excellent Customer Service!'), ('AV1eT1uE3-Khe5l_NHZp', 'Days Inn-buckeye', '3', 'MoreMore', 'Needs Attention')\n",
      "('AVwebW3tIN2L1WUf40LS', 'Wyndham Santa Monica At The Pier', '3', 'MoreMore', 'Paper walls'), ('AVwebW3tIN2L1WUf40LS', 'Wyndham Santa Monica At The Pier', '3', 'MoreMore', 'Good location, not much ekse')\n",
      "('AVwebW3tIN2L1WUf40LS', 'Wyndham Santa Monica At The Pier', '3', 'MoreMore', 'Paper walls'), ('AVwebW3tIN2L1WUf40LS', 'Wyndham Santa Monica At The Pier', '5', 'MoreMore', 'Great Place to stay')\n",
      "('AVwebW3tIN2L1WUf40LS', 'Wyndham Santa Monica At The Pier', '3', 'MoreMore', 'Paper walls'), ('AV1thhZpIxWefVJwhDL7', 'Pavilion Inn', '3', 'MoreMore', 'Thin Walls')\n",
      "('AVwebW3tIN2L1WUf40LS', 'Wyndham Santa Monica At The Pier', '3', 'MoreMore', 'Paper walls'), ('AVwebW3tIN2L1WUf40LS', 'Wyndham Santa Monica At The Pier', '2', 'MoreMore', \"Wyndham doesn't care about needs of guests\")\n",
      "('AVwebW3tIN2L1WUf40LS', 'Wyndham Santa Monica At The Pier', '3', 'MoreMore', 'Paper walls'), ('AVz6h4Sb3D1zeR_xDHsu', 'Microtel Inn Suites By Wyndham Lexington', '5', 'MoreMore', 'Location Location Location')\n",
      "('AVwebW3tIN2L1WUf40LS', 'Wyndham Santa Monica At The Pier', '3', 'MoreMore', 'Paper walls'), ('AVwekDvJByjofQCxzaKQ', 'Howard Johnson Inn - Flagstaff', '1', 'MoreMore', 'Overpriced')\n",
      "('AVwebW3tIN2L1WUf40LS', 'Wyndham Santa Monica At The Pier', '3', 'MoreMore', 'Paper walls'), ('AVwdbLuSkufWRAb55xAj', 'Microtel Inn Suites By Wyndham Pleasanton', '4', 'MoreMore', 'Good Place to Stay')\n",
      "('AVwebW3tIN2L1WUf40LS', 'Wyndham Santa Monica At The Pier', '3', 'MoreMore', 'Paper walls'), ('AVwebW3tIN2L1WUf40LS', 'Wyndham Santa Monica At The Pier', '4', 'MoreMore', 'Location to Beach and Pier are great')\n",
      "('AVwebW3tIN2L1WUf40LS', 'Wyndham Santa Monica At The Pier', '3', 'MoreMore', 'Paper walls'), ('AVwebW3tIN2L1WUf40LS', 'Wyndham Santa Monica At The Pier', '4', 'MoreMore', 'Nice yet noisy')\n",
      "('AVwebW3tIN2L1WUf40LS', 'Wyndham Santa Monica At The Pier', '3', 'MoreMore', 'Paper walls'), ('AVzoM7PX-gnIPe8DUBPz', 'Days Inn-Easton', '3', 'MoreMore', 'Almost okay.')\n",
      "('AVwebW3tIN2L1WUf40LS', 'Wyndham Santa Monica At The Pier', '3', 'MoreMore', 'Paper walls'), ('AWB2Zvswa4HuVbedJ8WE', 'Microtel Inn Suites By Wyndham Culpeper', '4', 'MoreMore', 'Home Away From Home -')\n",
      "('AVwebW3tIN2L1WUf40LS', 'Wyndham Santa Monica At The Pier', '3', 'MoreMore', 'Paper walls'), ('AV1eT1uE3-Khe5l_NHZp', 'Days Inn-buckeye', '3', 'MoreMore', 'Needs Attention')\n",
      "('AVwebW3tIN2L1WUf40LS', 'Wyndham Santa Monica At The Pier', '3', 'MoreMore', 'Good location, not much ekse'), ('AVwebW3tIN2L1WUf40LS', 'Wyndham Santa Monica At The Pier', '5', 'MoreMore', 'Great Place to stay')\n",
      "('AVwebW3tIN2L1WUf40LS', 'Wyndham Santa Monica At The Pier', '3', 'MoreMore', 'Good location, not much ekse'), ('AV1thhZpIxWefVJwhDL7', 'Pavilion Inn', '3', 'MoreMore', 'Thin Walls')\n",
      "('AVwebW3tIN2L1WUf40LS', 'Wyndham Santa Monica At The Pier', '3', 'MoreMore', 'Good location, not much ekse'), ('AVwebW3tIN2L1WUf40LS', 'Wyndham Santa Monica At The Pier', '2', 'MoreMore', \"Wyndham doesn't care about needs of guests\")\n",
      "('AVwebW3tIN2L1WUf40LS', 'Wyndham Santa Monica At The Pier', '3', 'MoreMore', 'Good location, not much ekse'), ('AVz6h4Sb3D1zeR_xDHsu', 'Microtel Inn Suites By Wyndham Lexington', '5', 'MoreMore', 'Location Location Location')\n",
      "('AVwebW3tIN2L1WUf40LS', 'Wyndham Santa Monica At The Pier', '3', 'MoreMore', 'Good location, not much ekse'), ('AVwekDvJByjofQCxzaKQ', 'Howard Johnson Inn - Flagstaff', '1', 'MoreMore', 'Overpriced')\n",
      "('AVwebW3tIN2L1WUf40LS', 'Wyndham Santa Monica At The Pier', '3', 'MoreMore', 'Good location, not much ekse'), ('AVwdbLuSkufWRAb55xAj', 'Microtel Inn Suites By Wyndham Pleasanton', '4', 'MoreMore', 'Good Place to Stay')\n",
      "('AVwebW3tIN2L1WUf40LS', 'Wyndham Santa Monica At The Pier', '3', 'MoreMore', 'Good location, not much ekse'), ('AVwebW3tIN2L1WUf40LS', 'Wyndham Santa Monica At The Pier', '4', 'MoreMore', 'Location to Beach and Pier are great')\n",
      "('AVwebW3tIN2L1WUf40LS', 'Wyndham Santa Monica At The Pier', '3', 'MoreMore', 'Good location, not much ekse'), ('AVwebW3tIN2L1WUf40LS', 'Wyndham Santa Monica At The Pier', '4', 'MoreMore', 'Nice yet noisy')\n",
      "('AVwebW3tIN2L1WUf40LS', 'Wyndham Santa Monica At The Pier', '3', 'MoreMore', 'Good location, not much ekse'), ('AVzoM7PX-gnIPe8DUBPz', 'Days Inn-Easton', '3', 'MoreMore', 'Almost okay.')\n",
      "('AVwebW3tIN2L1WUf40LS', 'Wyndham Santa Monica At The Pier', '3', 'MoreMore', 'Good location, not much ekse'), ('AWB2Zvswa4HuVbedJ8WE', 'Microtel Inn Suites By Wyndham Culpeper', '4', 'MoreMore', 'Home Away From Home -')\n",
      "('AVwebW3tIN2L1WUf40LS', 'Wyndham Santa Monica At The Pier', '3', 'MoreMore', 'Good location, not much ekse'), ('AV1eT1uE3-Khe5l_NHZp', 'Days Inn-buckeye', '3', 'MoreMore', 'Needs Attention')\n",
      "('AVwebW3tIN2L1WUf40LS', 'Wyndham Santa Monica At The Pier', '5', 'MoreMore', 'Great Place to stay'), ('AV1thhZpIxWefVJwhDL7', 'Pavilion Inn', '3', 'MoreMore', 'Thin Walls')\n",
      "('AVwebW3tIN2L1WUf40LS', 'Wyndham Santa Monica At The Pier', '5', 'MoreMore', 'Great Place to stay'), ('AVwebW3tIN2L1WUf40LS', 'Wyndham Santa Monica At The Pier', '2', 'MoreMore', \"Wyndham doesn't care about needs of guests\")\n",
      "('AVwebW3tIN2L1WUf40LS', 'Wyndham Santa Monica At The Pier', '5', 'MoreMore', 'Great Place to stay'), ('AVz6h4Sb3D1zeR_xDHsu', 'Microtel Inn Suites By Wyndham Lexington', '5', 'MoreMore', 'Location Location Location')\n",
      "('AVwebW3tIN2L1WUf40LS', 'Wyndham Santa Monica At The Pier', '5', 'MoreMore', 'Great Place to stay'), ('AVwekDvJByjofQCxzaKQ', 'Howard Johnson Inn - Flagstaff', '1', 'MoreMore', 'Overpriced')\n",
      "('AVwebW3tIN2L1WUf40LS', 'Wyndham Santa Monica At The Pier', '5', 'MoreMore', 'Great Place to stay'), ('AVwdbLuSkufWRAb55xAj', 'Microtel Inn Suites By Wyndham Pleasanton', '4', 'MoreMore', 'Good Place to Stay')\n",
      "('AVwebW3tIN2L1WUf40LS', 'Wyndham Santa Monica At The Pier', '5', 'MoreMore', 'Great Place to stay'), ('AVwebW3tIN2L1WUf40LS', 'Wyndham Santa Monica At The Pier', '4', 'MoreMore', 'Location to Beach and Pier are great')\n",
      "('AVwebW3tIN2L1WUf40LS', 'Wyndham Santa Monica At The Pier', '5', 'MoreMore', 'Great Place to stay'), ('AVwebW3tIN2L1WUf40LS', 'Wyndham Santa Monica At The Pier', '4', 'MoreMore', 'Nice yet noisy')\n",
      "('AVwebW3tIN2L1WUf40LS', 'Wyndham Santa Monica At The Pier', '5', 'MoreMore', 'Great Place to stay'), ('AVzoM7PX-gnIPe8DUBPz', 'Days Inn-Easton', '3', 'MoreMore', 'Almost okay.')\n",
      "('AVwebW3tIN2L1WUf40LS', 'Wyndham Santa Monica At The Pier', '5', 'MoreMore', 'Great Place to stay'), ('AWB2Zvswa4HuVbedJ8WE', 'Microtel Inn Suites By Wyndham Culpeper', '4', 'MoreMore', 'Home Away From Home -')\n",
      "('AVwebW3tIN2L1WUf40LS', 'Wyndham Santa Monica At The Pier', '5', 'MoreMore', 'Great Place to stay'), ('AV1eT1uE3-Khe5l_NHZp', 'Days Inn-buckeye', '3', 'MoreMore', 'Needs Attention')\n",
      "('AV1thhZpIxWefVJwhDL7', 'Pavilion Inn', '3', 'MoreMore', 'Thin Walls'), ('AVwebW3tIN2L1WUf40LS', 'Wyndham Santa Monica At The Pier', '2', 'MoreMore', \"Wyndham doesn't care about needs of guests\")\n",
      "('AV1thhZpIxWefVJwhDL7', 'Pavilion Inn', '3', 'MoreMore', 'Thin Walls'), ('AVz6h4Sb3D1zeR_xDHsu', 'Microtel Inn Suites By Wyndham Lexington', '5', 'MoreMore', 'Location Location Location')\n",
      "('AV1thhZpIxWefVJwhDL7', 'Pavilion Inn', '3', 'MoreMore', 'Thin Walls'), ('AVwekDvJByjofQCxzaKQ', 'Howard Johnson Inn - Flagstaff', '1', 'MoreMore', 'Overpriced')\n",
      "('AV1thhZpIxWefVJwhDL7', 'Pavilion Inn', '3', 'MoreMore', 'Thin Walls'), ('AVwdbLuSkufWRAb55xAj', 'Microtel Inn Suites By Wyndham Pleasanton', '4', 'MoreMore', 'Good Place to Stay')\n",
      "('AV1thhZpIxWefVJwhDL7', 'Pavilion Inn', '3', 'MoreMore', 'Thin Walls'), ('AVwebW3tIN2L1WUf40LS', 'Wyndham Santa Monica At The Pier', '4', 'MoreMore', 'Location to Beach and Pier are great')\n",
      "('AV1thhZpIxWefVJwhDL7', 'Pavilion Inn', '3', 'MoreMore', 'Thin Walls'), ('AVwebW3tIN2L1WUf40LS', 'Wyndham Santa Monica At The Pier', '4', 'MoreMore', 'Nice yet noisy')\n",
      "('AV1thhZpIxWefVJwhDL7', 'Pavilion Inn', '3', 'MoreMore', 'Thin Walls'), ('AVzoM7PX-gnIPe8DUBPz', 'Days Inn-Easton', '3', 'MoreMore', 'Almost okay.')\n",
      "('AV1thhZpIxWefVJwhDL7', 'Pavilion Inn', '3', 'MoreMore', 'Thin Walls'), ('AWB2Zvswa4HuVbedJ8WE', 'Microtel Inn Suites By Wyndham Culpeper', '4', 'MoreMore', 'Home Away From Home -')\n",
      "('AV1thhZpIxWefVJwhDL7', 'Pavilion Inn', '3', 'MoreMore', 'Thin Walls'), ('AV1eT1uE3-Khe5l_NHZp', 'Days Inn-buckeye', '3', 'MoreMore', 'Needs Attention')\n",
      "('AVwdX8UfkufWRAb55PNG', 'Econo Lodge', '5', 'Customer service was really good and they were really friendly. Price for this hotel in Jonesboro was really really good. I stayed for 2 weeks for business trip and had no issue. They have updated to flat screen. I did not expect breakfast to be included in this price, so that was a bonus.', 'Great hotel for the price I paid and Very friendly Customer service'), ('AVwcvbh6ByjofQCxhqkB', 'Hilton Garden Inn Jonesboro', '4', 'Decent hotel in Jonesboro, clean rooms friendly staff. Have stayed several times and always had a pleasant experience. Pool is great for the kids. Good central location in town, not a far drive to anything.', 'Good hotel')\n",
      "('AVwdKSJlByjofQCxmH8m', 'Quality Inn Suites-sequim', '4', \"Only needed a one night stay for a work trip. They were very quick to find a room, and quite accommodating, even though undergoing a remodel and hot tub was not working. This hotel is a bit far from downtown, so if you like it quiet, it's great! There is an Applebee's within walking distance, and a very short drive... More\", 'Sequim photo shoot'), ('AVweiGMOByjofQCxzG76', 'Wyndham Garden Tallahassee Capitol', '5', 'Property in great location. Enjoyed my stay thanks to the friendly staff at the front desk and morning breakfast area. Applebee is adjoining to the property which is very convenient in the evening for dinner and drinks.', 'Week trip to Tallahassee')\n",
      "('AVwebW3tIN2L1WUf40LS', 'Wyndham Santa Monica At The Pier', '2', 'MoreMore', \"Wyndham doesn't care about needs of guests\"), ('AVz6h4Sb3D1zeR_xDHsu', 'Microtel Inn Suites By Wyndham Lexington', '5', 'MoreMore', 'Location Location Location')\n",
      "('AVwebW3tIN2L1WUf40LS', 'Wyndham Santa Monica At The Pier', '2', 'MoreMore', \"Wyndham doesn't care about needs of guests\"), ('AVwekDvJByjofQCxzaKQ', 'Howard Johnson Inn - Flagstaff', '1', 'MoreMore', 'Overpriced')\n",
      "('AVwebW3tIN2L1WUf40LS', 'Wyndham Santa Monica At The Pier', '2', 'MoreMore', \"Wyndham doesn't care about needs of guests\"), ('AVwdbLuSkufWRAb55xAj', 'Microtel Inn Suites By Wyndham Pleasanton', '4', 'MoreMore', 'Good Place to Stay')\n",
      "('AVwebW3tIN2L1WUf40LS', 'Wyndham Santa Monica At The Pier', '2', 'MoreMore', \"Wyndham doesn't care about needs of guests\"), ('AVwebW3tIN2L1WUf40LS', 'Wyndham Santa Monica At The Pier', '4', 'MoreMore', 'Location to Beach and Pier are great')\n",
      "('AVwebW3tIN2L1WUf40LS', 'Wyndham Santa Monica At The Pier', '2', 'MoreMore', \"Wyndham doesn't care about needs of guests\"), ('AVwebW3tIN2L1WUf40LS', 'Wyndham Santa Monica At The Pier', '4', 'MoreMore', 'Nice yet noisy')\n",
      "('AVwebW3tIN2L1WUf40LS', 'Wyndham Santa Monica At The Pier', '2', 'MoreMore', \"Wyndham doesn't care about needs of guests\"), ('AVzoM7PX-gnIPe8DUBPz', 'Days Inn-Easton', '3', 'MoreMore', 'Almost okay.')\n",
      "('AVwebW3tIN2L1WUf40LS', 'Wyndham Santa Monica At The Pier', '2', 'MoreMore', \"Wyndham doesn't care about needs of guests\"), ('AWB2Zvswa4HuVbedJ8WE', 'Microtel Inn Suites By Wyndham Culpeper', '4', 'MoreMore', 'Home Away From Home -')\n",
      "('AVwebW3tIN2L1WUf40LS', 'Wyndham Santa Monica At The Pier', '2', 'MoreMore', \"Wyndham doesn't care about needs of guests\"), ('AV1eT1uE3-Khe5l_NHZp', 'Days Inn-buckeye', '3', 'MoreMore', 'Needs Attention')\n",
      "('AVwcnLrgIN2L1WUfm8Ag', 'Fairfield Inn Philadelphia Airport', '4', 'We stayed at this hotel while attending an event at the Wells Fargo Center in Philadelphia. Our room was comfortable and more than adequate. The hotel was very busy, but we slept great and were not bothered by noise. The hotel was really convenient to the Wells Fargo Center and not being from the area, the drive was easy. Breakfast... More', 'Last minute pick, worked out great'), ('AVwcnLrgIN2L1WUfm8Ag', 'Fairfield Inn Philadelphia Airport', '4', 'We stayed at this hotel while attending an event at the Wells Fargo Center in Philadelphia. Our room was comfortable and more than adequate. The hotel was very busy, but we slept great and were not bothered by noise. The hotel was really convenient to the Wells Fargo Center and not being from the area, the drive was easy. Breakfast was busy but well stocked and the staff was friendly and helpful.We are so glad to hear that you enjoyed your stay with us. We hope to see you again soon!', 'Last minute pick, worked out great')\n",
      "('AVwek7jT_7pvs4fzEUMV', 'Biltmore Hotel', '4', \"We stayed at the Biltmore recently and it's a very nice upscale hotel. I will say that while the room was large and the beds were very comfortable that the furnishings in the room are a bit dated and not quite what you would expect from a hotel at this level. There are nice cheaper hotels in the area but... More\", 'Nice hotel but Needs Some Updating'), ('AWEKlIxxIxWefVJwxHD9', 'Hampton Inn Suites Asheville Biltmore Village', '5', 'Very clean hotel. We booked an over-sized room and it had great space. The hotel was in a great location and could get to downtown in just a few minutes. If you are going to the Biltmore, then it is just a block or two...More', 'Great Stay and close to downtown Asheville')\n",
      "('AVz6h4Sb3D1zeR_xDHsu', 'Microtel Inn Suites By Wyndham Lexington', '5', 'MoreMore', 'Location Location Location'), ('AVwekDvJByjofQCxzaKQ', 'Howard Johnson Inn - Flagstaff', '1', 'MoreMore', 'Overpriced')\n",
      "('AVz6h4Sb3D1zeR_xDHsu', 'Microtel Inn Suites By Wyndham Lexington', '5', 'MoreMore', 'Location Location Location'), ('AVwdbLuSkufWRAb55xAj', 'Microtel Inn Suites By Wyndham Pleasanton', '4', 'MoreMore', 'Good Place to Stay')\n",
      "('AVz6h4Sb3D1zeR_xDHsu', 'Microtel Inn Suites By Wyndham Lexington', '5', 'MoreMore', 'Location Location Location'), ('AVwebW3tIN2L1WUf40LS', 'Wyndham Santa Monica At The Pier', '4', 'MoreMore', 'Location to Beach and Pier are great')\n",
      "('AVz6h4Sb3D1zeR_xDHsu', 'Microtel Inn Suites By Wyndham Lexington', '5', 'MoreMore', 'Location Location Location'), ('AVwebW3tIN2L1WUf40LS', 'Wyndham Santa Monica At The Pier', '4', 'MoreMore', 'Nice yet noisy')\n",
      "('AVz6h4Sb3D1zeR_xDHsu', 'Microtel Inn Suites By Wyndham Lexington', '5', 'MoreMore', 'Location Location Location'), ('AVzoM7PX-gnIPe8DUBPz', 'Days Inn-Easton', '3', 'MoreMore', 'Almost okay.')\n",
      "('AVz6h4Sb3D1zeR_xDHsu', 'Microtel Inn Suites By Wyndham Lexington', '5', 'MoreMore', 'Location Location Location'), ('AWB2Zvswa4HuVbedJ8WE', 'Microtel Inn Suites By Wyndham Culpeper', '4', 'MoreMore', 'Home Away From Home -')\n",
      "('AVz6h4Sb3D1zeR_xDHsu', 'Microtel Inn Suites By Wyndham Lexington', '5', 'MoreMore', 'Location Location Location'), ('AV1eT1uE3-Khe5l_NHZp', 'Days Inn-buckeye', '3', 'MoreMore', 'Needs Attention')\n",
      "('AVwdDi4c_7pvs4fz1yly', 'Best Western Seven Seas', '3', 'This hotel was clean and easy to access after a long day of driving and playing softball. It was in a kind of run down area and the hotel is somewhat outdated but we were just looking for somewhere clean to sleep. For that reason it was great. The staff was wonderful and very polite with all directions and requested information and help.', 'Okay'), ('AVwcolBg_7pvs4fzxSnV', 'Hampton Inn Atlanta-Perimeter Center', '4', 'Our softball team stayed here and had a great time. Shuttle the hotel provided was very convenient. Staff was very nice and gracious! Will definitely stay again!', 'We had a great time!')\n",
      "('AVwekDvJByjofQCxzaKQ', 'Howard Johnson Inn - Flagstaff', '1', 'MoreMore', 'Overpriced'), ('AVwdbLuSkufWRAb55xAj', 'Microtel Inn Suites By Wyndham Pleasanton', '4', 'MoreMore', 'Good Place to Stay')\n",
      "('AVwekDvJByjofQCxzaKQ', 'Howard Johnson Inn - Flagstaff', '1', 'MoreMore', 'Overpriced'), ('AVwebW3tIN2L1WUf40LS', 'Wyndham Santa Monica At The Pier', '4', 'MoreMore', 'Location to Beach and Pier are great')\n",
      "('AVwekDvJByjofQCxzaKQ', 'Howard Johnson Inn - Flagstaff', '1', 'MoreMore', 'Overpriced'), ('AVwebW3tIN2L1WUf40LS', 'Wyndham Santa Monica At The Pier', '4', 'MoreMore', 'Nice yet noisy')\n",
      "('AVwekDvJByjofQCxzaKQ', 'Howard Johnson Inn - Flagstaff', '1', 'MoreMore', 'Overpriced'), ('AVzoM7PX-gnIPe8DUBPz', 'Days Inn-Easton', '3', 'MoreMore', 'Almost okay.')\n",
      "('AVwekDvJByjofQCxzaKQ', 'Howard Johnson Inn - Flagstaff', '1', 'MoreMore', 'Overpriced'), ('AWB2Zvswa4HuVbedJ8WE', 'Microtel Inn Suites By Wyndham Culpeper', '4', 'MoreMore', 'Home Away From Home -')\n",
      "('AVwekDvJByjofQCxzaKQ', 'Howard Johnson Inn - Flagstaff', '1', 'MoreMore', 'Overpriced'), ('AV1eT1uE3-Khe5l_NHZp', 'Days Inn-buckeye', '3', 'MoreMore', 'Needs Attention')\n",
      "('AVwdbLuSkufWRAb55xAj', 'Microtel Inn Suites By Wyndham Pleasanton', '4', 'MoreMore', 'Good Place to Stay'), ('AVwebW3tIN2L1WUf40LS', 'Wyndham Santa Monica At The Pier', '4', 'MoreMore', 'Location to Beach and Pier are great')\n",
      "('AVwdbLuSkufWRAb55xAj', 'Microtel Inn Suites By Wyndham Pleasanton', '4', 'MoreMore', 'Good Place to Stay'), ('AVwebW3tIN2L1WUf40LS', 'Wyndham Santa Monica At The Pier', '4', 'MoreMore', 'Nice yet noisy')\n",
      "('AVwdbLuSkufWRAb55xAj', 'Microtel Inn Suites By Wyndham Pleasanton', '4', 'MoreMore', 'Good Place to Stay'), ('AVzoM7PX-gnIPe8DUBPz', 'Days Inn-Easton', '3', 'MoreMore', 'Almost okay.')\n",
      "('AVwdbLuSkufWRAb55xAj', 'Microtel Inn Suites By Wyndham Pleasanton', '4', 'MoreMore', 'Good Place to Stay'), ('AWB2Zvswa4HuVbedJ8WE', 'Microtel Inn Suites By Wyndham Culpeper', '4', 'MoreMore', 'Home Away From Home -')\n",
      "('AVwdbLuSkufWRAb55xAj', 'Microtel Inn Suites By Wyndham Pleasanton', '4', 'MoreMore', 'Good Place to Stay'), ('AV1eT1uE3-Khe5l_NHZp', 'Days Inn-buckeye', '3', 'MoreMore', 'Needs Attention')\n",
      "('AVwelCN-IN2L1WUf6Q9Y', 'GrandStay Residential Suites Hotel Sheboygan', '3', 'Good place to stay. Walking distance from downtown Sheboygan. Hotel staff was very guest friendly. Nice quiet rooms. Breakfast had a good selection and the quality was good. I will stay here again when I return to Sheboygan.', 'Sheboygan Stay'), ('AVwelCN-IN2L1WUf6Q9Y', 'GrandStay Residential Suites Hotel Sheboygan', '4', \"Stayed with the hotel twice for work. Friendly staff, clean, better than average complimentary breakfast. Great location within walking distance of some of Sheboygan's great restaurants. Be back soon!\", 'Perfect for week long work trip')\n",
      "('AVwelCN-IN2L1WUf6Q9Y', 'GrandStay Residential Suites Hotel Sheboygan', '3', 'Good place to stay. Walking distance from downtown Sheboygan. Hotel staff was very guest friendly. Nice quiet rooms. Breakfast had a good selection and the quality was good. I will stay here again when I return to Sheboygan.', 'Sheboygan Stay'), ('AVwelCN-IN2L1WUf6Q9Y', 'GrandStay Residential Suites Hotel Sheboygan', '5', 'This hotel is very clean and the staff goes out of their way to please you. Rooms are very spacious and there is a kitchen in every room! Great continental breakfast with wonderful selections! This is by far the place to stay when in Sheboygan.', 'EXCELLENT HOTEL - THE ONLY PLACE TO STAY IN SHEBOYGAN!')\n",
      "('AVwebW3tIN2L1WUf40LS', 'Wyndham Santa Monica At The Pier', '4', 'MoreMore', 'Location to Beach and Pier are great'), ('AVwebW3tIN2L1WUf40LS', 'Wyndham Santa Monica At The Pier', '4', 'MoreMore', 'Nice yet noisy')\n",
      "('AVwebW3tIN2L1WUf40LS', 'Wyndham Santa Monica At The Pier', '4', 'MoreMore', 'Location to Beach and Pier are great'), ('AVzoM7PX-gnIPe8DUBPz', 'Days Inn-Easton', '3', 'MoreMore', 'Almost okay.')\n",
      "('AVwebW3tIN2L1WUf40LS', 'Wyndham Santa Monica At The Pier', '4', 'MoreMore', 'Location to Beach and Pier are great'), ('AWB2Zvswa4HuVbedJ8WE', 'Microtel Inn Suites By Wyndham Culpeper', '4', 'MoreMore', 'Home Away From Home -')\n",
      "('AVwebW3tIN2L1WUf40LS', 'Wyndham Santa Monica At The Pier', '4', 'MoreMore', 'Location to Beach and Pier are great'), ('AV1eT1uE3-Khe5l_NHZp', 'Days Inn-buckeye', '3', 'MoreMore', 'Needs Attention')\n",
      "('AVwebW3tIN2L1WUf40LS', 'Wyndham Santa Monica At The Pier', '4', 'MoreMore', 'Nice yet noisy'), ('AVzoM7PX-gnIPe8DUBPz', 'Days Inn-Easton', '3', 'MoreMore', 'Almost okay.')\n",
      "('AVwebW3tIN2L1WUf40LS', 'Wyndham Santa Monica At The Pier', '4', 'MoreMore', 'Nice yet noisy'), ('AWB2Zvswa4HuVbedJ8WE', 'Microtel Inn Suites By Wyndham Culpeper', '4', 'MoreMore', 'Home Away From Home -')\n",
      "('AVwebW3tIN2L1WUf40LS', 'Wyndham Santa Monica At The Pier', '4', 'MoreMore', 'Nice yet noisy'), ('AV1eT1uE3-Khe5l_NHZp', 'Days Inn-buckeye', '3', 'MoreMore', 'Needs Attention')\n",
      "('AVzoM7PX-gnIPe8DUBPz', 'Days Inn-Easton', '3', 'MoreMore', 'Almost okay.'), ('AWB2Zvswa4HuVbedJ8WE', 'Microtel Inn Suites By Wyndham Culpeper', '4', 'MoreMore', 'Home Away From Home -')\n",
      "('AVzoM7PX-gnIPe8DUBPz', 'Days Inn-Easton', '3', 'MoreMore', 'Almost okay.'), ('AV1eT1uE3-Khe5l_NHZp', 'Days Inn-buckeye', '3', 'MoreMore', 'Needs Attention')\n",
      "('AVwdk4zOByjofQCxqeEN', 'Motel 6 Atlanta Downtown', '5', 'If you are planning to go to Americasmart and want inexpensive accommodation then this is the place to stay. 7 min walk to Americasmart and free parking if needed. Rooms a good size and clean. Staff were excellent especially Mr Ben who took great care of us. We look forward to our next visit in January 2013.', \"Atlanta's little secret\"), ('AWFAj0n4a4HuVbedOG2U', 'Hyatt Place AtlantaDowntown', '5', 'Stayed here for a recent AmericasMart show, which was only a couple blocks away. Shuttle service is a wonderful benefit there. Everyone was extremely friendly and helpful, and we will definitely stay there again when in Atlanta.', 'Great location and excellent servive')\n",
      "('AWB2Zvswa4HuVbedJ8WE', 'Microtel Inn Suites By Wyndham Culpeper', '4', 'MoreMore', 'Home Away From Home -'), ('AV1eT1uE3-Khe5l_NHZp', 'Days Inn-buckeye', '3', 'MoreMore', 'Needs Attention')\n",
      "('AVwelCN-IN2L1WUf6Q9Y', 'GrandStay Residential Suites Hotel Sheboygan', '4', \"Stayed with the hotel twice for work. Friendly staff, clean, better than average complimentary breakfast. Great location within walking distance of some of Sheboygan's great restaurants. Be back soon!\", 'Perfect for week long work trip'), ('AVwelCN-IN2L1WUf6Q9Y', 'GrandStay Residential Suites Hotel Sheboygan', '5', 'This hotel is very clean and the staff goes out of their way to please you. Rooms are very spacious and there is a kitchen in every room! Great continental breakfast with wonderful selections! This is by far the place to stay when in Sheboygan.', 'EXCELLENT HOTEL - THE ONLY PLACE TO STAY IN SHEBOYGAN!')\n"
     ]
    }
   ],
   "source": [
    "for duplicateKey in duplicateCandidates.keys():\n",
    "    for k in duplicateCandidates[duplicateKey]:\n",
    "        print(str(reviewMap[duplicateKey]) + \", \" + str(reviewMap[k]))"
   ]
  },
  {
   "cell_type": "code",
   "execution_count": 102,
   "metadata": {},
   "outputs": [],
   "source": [
    "for duplicateKey in duplicateCandidates.keys():\n",
    "    for k in duplicateCandidates[duplicateKey]:\n",
    "        if k in reviewMap.keys():\n",
    "            del reviewMap[k]"
   ]
  },
  {
   "cell_type": "code",
   "execution_count": 104,
   "metadata": {},
   "outputs": [
    {
     "name": "stdout",
     "output_type": "stream",
     "text": [
      "Cleaned reviews has total of 9759 reviews after Tf-idf removal\n",
      "[(0, ('AVwcj_OhkufWRAb5wi9T', \"Best Western Carmel's Town House Lodge\", '5', 'Not cheap but excellent location. Price is somewhat standard for not hacing reservations. But room was nice and clean. They offer good continental breakfast which is a plus and compensates. Front desk service and personnel where excellent. It is Carmel, no A/C in rooms but they have a fan for air circulation.', 'Very good'))]\n"
     ]
    }
   ],
   "source": [
    "print(\"Cleaned reviews has total of %s reviews after Tf-idf removal\" % (len(reviewMap)))\n",
    "print(reviewRDD.take(1))"
   ]
  },
  {
   "cell_type": "code",
   "execution_count": 105,
   "metadata": {},
   "outputs": [
    {
     "name": "stdout",
     "output_type": "stream",
     "text": [
      "Saving review data to file.\n",
      "Data saved to General_Review_Data.json\n"
     ]
    }
   ],
   "source": [
    "print(\"Saving review data to file.\")\n",
    "output_file = open(\"General_Review_Data.json\", \"w\")\n",
    "counter = 0\n",
    "output_file.write(\"{\")\n",
    "output_file.write('\"Reviews\": {')\n",
    "for review_id in reviewMap.keys():\n",
    "    output_file.write('\"' + str(review_id) + '\": {')\n",
    "    output_file.write('\"Id\": ' + str(review_id) + ',')\n",
    "    output_file.write('\"ReviewId\": ' + '\"' + reviewMap[review_id][0] + '\",')\n",
    "    output_file.write('\"ReviewEdHotel\": ' + '\"' + reviewMap[review_id][1] + '\",')\n",
    "    output_file.write('\"ReviewedScore\": ' + '\"' + reviewMap[review_id][2] + '\",')\n",
    "    output_file.write('\"ReviewedText\": ' + '\"' + reviewMap[review_id][3] + '\",')\n",
    "    output_file.write('\"ReviewedTitle\": ' + '\"' + reviewMap[review_id][4] + '\"')\n",
    "    counter += 1\n",
    "    if counter != len(reviewMap):\n",
    "        output_file.write('},')\n",
    "    else:\n",
    "        output_file.write('}')\n",
    "output_file.write('}')\n",
    "output_file.write('}')\n",
    "output_file.close()\n",
    "print(\"Data saved to General_Review_Data.json\")"
   ]
  },
  {
   "cell_type": "code",
   "execution_count": null,
   "metadata": {},
   "outputs": [],
   "source": []
  }
 ],
 "metadata": {
  "kernelspec": {
   "display_name": "Python 3",
   "language": "python",
   "name": "python3"
  },
  "language_info": {
   "codemirror_mode": {
    "name": "ipython",
    "version": 3
   },
   "file_extension": ".py",
   "mimetype": "text/x-python",
   "name": "python",
   "nbconvert_exporter": "python",
   "pygments_lexer": "ipython3",
   "version": "3.8.5"
  }
 },
 "nbformat": 4,
 "nbformat_minor": 4
}
