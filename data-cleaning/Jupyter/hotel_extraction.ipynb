{
 "cells": [
  {
   "cell_type": "code",
   "execution_count": 2,
   "metadata": {},
   "outputs": [],
   "source": [
    "from pyspark import SparkContext"
   ]
  },
  {
   "cell_type": "code",
   "execution_count": 3,
   "metadata": {},
   "outputs": [],
   "source": [
    "import difflib"
   ]
  },
  {
   "cell_type": "code",
   "execution_count": 4,
   "metadata": {},
   "outputs": [],
   "source": [
    "# Split lines into words, not using regex to save performance\n",
    "def splitWords(line):\n",
    "    words = ''\n",
    "    neglect = False\n",
    "    result = []\n",
    "    for char in line:\n",
    "        if char == ',' and not neglect and words != '':\n",
    "            result.append(words)\n",
    "            words = ''\n",
    "        else:\n",
    "            if char == '\"':\n",
    "                neglect = not neglect\n",
    "            else:\n",
    "                words += char\n",
    "    if words != '':\n",
    "        result.append(words)\n",
    "    return result"
   ]
  },
  {
   "cell_type": "code",
   "execution_count": 5,
   "metadata": {},
   "outputs": [],
   "source": [
    "def remove_malformed_data(data):\n",
    "    if len(data) != 25 or data[7] != 'US':\n",
    "        return data, -1\n",
    "    else:\n",
    "        return data, 0"
   ]
  },
  {
   "cell_type": "code",
   "execution_count": 6,
   "metadata": {},
   "outputs": [],
   "source": [
    "def sequenceMatch(data):\n",
    "    hotel_name = data[0]\n",
    "    ratio = 0\n",
    "    matched_hotel = data\n",
    "    for hotel in hotel_dict.keys():\n",
    "        if hotel != hotel_name:\n",
    "            diff = difflib.SequenceMatcher(None, hotel, hotel_name).ratio()\n",
    "            if diff >= ratio:\n",
    "                ratio = diff\n",
    "                hotel_list = [hotel_name, hotel]\n",
    "                hotel_list.sort()\n",
    "                matched_hotel = (1, hotel_list)\n",
    "    if matched_hotel[0] != hotel_name:\n",
    "        if ratio >= 0.90:\n",
    "            return matched_hotel\n",
    "    return 0, data[0]"
   ]
  },
  {
   "cell_type": "code",
   "execution_count": 7,
   "metadata": {},
   "outputs": [],
   "source": [
    "def deduplicate(data):\n",
    "    # Removing the shorter name if the data's address matches 80%\n",
    "    address_a = list(hotel_dict[data[0]])\n",
    "    address_b = list(hotel_dict[data[1]])\n",
    "    # Remove categories columns\n",
    "    del address_a[4]\n",
    "    del address_b[4]\n",
    "    ratio = difflib.SequenceMatcher(None, str(address_a), str(address_b)).ratio()\n",
    "    if ratio > 0.80:\n",
    "        # Remove extra item in dictionary. Add new ptr connect this two item\n",
    "        return 1, data\n",
    "    return 0, data"
   ]
  },
  {
   "cell_type": "code",
   "execution_count": 8,
   "metadata": {},
   "outputs": [
    {
     "name": "stdout",
     "output_type": "stream",
     "text": [
      "\u001b[1;31mProgram starts!\u001b[0m\n"
     ]
    }
   ],
   "source": [
    "# program start here\n",
    "print(\"\\033[1;31mProgram starts!\\033[0m\")\n",
    "hotelFilePath = '../../datasets/Datafiniti_Hotel_Reviews_Jun19.csv'\n",
    "sc = SparkContext('local[*]', 'Hotel_Reviews')\n",
    "sc.setLogLevel(\"ERROR\")"
   ]
  },
  {
   "cell_type": "code",
   "execution_count": 15,
   "metadata": {},
   "outputs": [
    {
     "name": "stdout",
     "output_type": "stream",
     "text": [
      "Initial cleaning saved 10000 lines of data.\n"
     ]
    }
   ],
   "source": [
    "hotelFile = sc.textFile(hotelFilePath)\n",
    "initialRDD = hotelFile.flatMap(lambda line: line.split('\\n')) \\\n",
    "    .map(lambda line: splitWords(line)) \\\n",
    "    .map(lambda data: remove_malformed_data(data)) \\\n",
    "    .filter(lambda data: data[1] == 0) \\\n",
    "    .map(lambda data: data[0]) \\\n",
    "    .map(lambda line: (line[11], [line[3], line[4], line[6], line[9],\n",
    "                                  line[10], line[12], line[13], line[16], line[18], line[19], line[0], line[14][0:11]]))\n",
    "print(\"Initial cleaning saved %s lines of data.\"\n",
    "      % (initialRDD.count()))"
   ]
  },
  {
   "cell_type": "code",
   "execution_count": 16,
   "metadata": {},
   "outputs": [
    {
     "name": "stdout",
     "output_type": "stream",
     "text": [
      "[('Best Western Plus South Coast Inn', ['5620 Calle Real', 'Hotels,Hotels and motels,Hotel and motel mgmt.,Lodging,Hotels Motels,Hotel', 'Goleta', '34.44178', '-119.81979', '93117', 'CA', '3', 'This hotel was nice and quiet. Did not know, there was train track near by. But it was only few train passed during our stay. Best Western changed hotel classification. The Plus category are not the same as before.', 'Best Western Plus Hotel', 'AWE2FvX5RxPSIh2RscTK', '2018-01-01T'])]\n"
     ]
    }
   ],
   "source": [
    "print(initialRDD.take(1))"
   ]
  },
  {
   "cell_type": "code",
   "execution_count": 20,
   "metadata": {},
   "outputs": [],
   "source": [
    "hotelsRDD = initialRDD \\\n",
    "    .map(lambda data: (data[0], (data[1][6], data[1][2], data[1][0], data[1][5], data[1][1], data[1][3], data[1][4]))) \\\n",
    "    .distinct()\n",
    "hotel_dict = hotelsRDD.collectAsMap()\n",
    "hotel_dup_dict = {}\n",
    "duplicate_hotels = hotelsRDD.map(lambda data: sequenceMatch(data))\\\n",
    "    .filter(lambda data: data[0] == 1)\\\n",
    "    .map(lambda data: (data[1][0], data[1][1]))\\\n",
    "    .distinct()\\\n",
    "    .map(lambda data: deduplicate(data))\n",
    "true_positive = duplicate_hotels.filter(lambda data: data[0] == 1)\\\n",
    "    .map(lambda data: data[1])\\\n",
    "    .collect()"
   ]
  },
  {
   "cell_type": "code",
   "execution_count": 18,
   "metadata": {},
   "outputs": [
    {
     "name": "stdout",
     "output_type": "stream",
     "text": [
      "Running Jaccard similarity on hotel names collected 12 lines of data, true positive 1 lines, and false postive 11 lines.\n",
      "Removed duplicate item: Best Western Plus-concordville Hotel, duplicate item for: Best Western Plus Concordville Hotel.\n"
     ]
    }
   ],
   "source": [
    "false_positive = duplicate_hotels.filter(lambda data: data[0] == 0).count()\n",
    "print(\"Running Jaccard similarity on hotel names collected %s lines of data, true positive %s lines, and false postive\"\n",
    "      \" %s lines.\"\n",
    "      % (duplicate_hotels.count(),\n",
    "         len(true_positive),\n",
    "         false_positive))\n",
    "for dup in true_positive:\n",
    "    print(\"Removed duplicate item: %s, duplicate item for: %s.\" % (\n",
    "        dup[1],\n",
    "        dup[0]\n",
    "    ))\n",
    "    del hotel_dict[dup[1]]\n",
    "    hotel_dup_dict[dup[0]] = dup[1]"
   ]
  },
  {
   "cell_type": "code",
   "execution_count": 21,
   "metadata": {},
   "outputs": [
    {
     "name": "stdout",
     "output_type": "stream",
     "text": [
      "Best Western Executive Inn, Best Western Plus Executive Inn\n",
      "Quality Inn & Suites, Quality Inn Suites\n",
      "Best Western Garden Inn, Best Western Rose Garden Inn\n",
      "Americas Best Value Inn, Americas Best Value Inn-alva\n",
      "Sleep Inn & Suites, Sleep Inn Suites\n",
      "Bunk House Motel, Bunkhouse Motel\n",
      "America's Best Value Inn, Americas Best Value Inn\n",
      "Best Western Plus Universal Inn, Best Western Plus University Inn\n",
      "Comfort Inn & Suites, Comfort Inn Suites\n",
      "Best Western I-5 Inn & Suites, Best Western Inn & Suites\n",
      "Best Western Plus University Inn, Best Western Plus University Inn Suites\n"
     ]
    }
   ],
   "source": [
    "fp_list = duplicate_hotels.filter(lambda data: data[0] == 0).map(lambda data: data[1]).collect()\n",
    "for fp in fp_list:\n",
    "    print(str(fp[0]) + \", \" + str(fp[1]))"
   ]
  },
  {
   "cell_type": "code",
   "execution_count": 17,
   "metadata": {},
   "outputs": [
    {
     "name": "stdout",
     "output_type": "stream",
     "text": [
      "Saving hotel data to file.\n",
      "Data saved to General_Hotel_Data.json\n"
     ]
    }
   ],
   "source": [
    "print(\"Saving hotel data to file.\")\n",
    "output_file = open(\"General_Hotel_Data.json\", \"w\")\n",
    "counter = 0\n",
    "id_dict = {}\n",
    "for hotel_name in hotel_dict.keys():\n",
    "    id_dict[hotel_name] = counter\n",
    "    counter += 1\n",
    "counter = 0\n",
    "output_file.write(\"{\")\n",
    "output_file.write('\"Hotels\": {')\n",
    "for hotel_name in id_dict.keys():\n",
    "    output_file.write('\"' + str(id_dict[hotel_name]) + '\": {')\n",
    "    output_file.write('\"Id\": ' + str(id_dict[hotel_name]) + ',')\n",
    "    output_file.write('\"Name\": ' + '\"' + hotel_name + '\",')\n",
    "    output_file.write('\"State\": ' + '\"' + hotel_dict[hotel_name][0] + '\",')\n",
    "    output_file.write('\"City\": ' + '\"' + hotel_dict[hotel_name][1] + '\",')\n",
    "    output_file.write('\"Address\": ' + '\"' + hotel_dict[hotel_name][2] + '\",')\n",
    "    output_file.write('\"Zip\": ' + '\"' + hotel_dict[hotel_name][3] + '\",')\n",
    "    output_file.write('\"Type\": ' + '\"' + hotel_dict[hotel_name][4] + '\",')\n",
    "    output_file.write('\"Latitude\": ' + hotel_dict[hotel_name][5] + ',')\n",
    "    output_file.write('\"Longitude\": ' + hotel_dict[hotel_name][6])\n",
    "    counter += 1\n",
    "    if counter != len(id_dict):\n",
    "        output_file.write('},')\n",
    "    else:\n",
    "        output_file.write('}')\n",
    "output_file.write('}')\n",
    "output_file.write('}')\n",
    "output_file.close()\n",
    "print(\"Data saved to General_Hotel_Data.json\")"
   ]
  },
  {
   "cell_type": "code",
   "execution_count": null,
   "metadata": {},
   "outputs": [],
   "source": []
  }
 ],
 "metadata": {
  "kernelspec": {
   "display_name": "Python 3",
   "language": "python",
   "name": "python3"
  },
  "language_info": {
   "codemirror_mode": {
    "name": "ipython",
    "version": 3
   },
   "file_extension": ".py",
   "mimetype": "text/x-python",
   "name": "python",
   "nbconvert_exporter": "python",
   "pygments_lexer": "ipython3",
   "version": "3.8.5"
  }
 },
 "nbformat": 4,
 "nbformat_minor": 4
}
